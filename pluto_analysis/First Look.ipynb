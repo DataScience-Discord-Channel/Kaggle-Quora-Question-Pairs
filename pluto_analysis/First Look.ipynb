{
 "cells": [
  {
   "cell_type": "code",
   "execution_count": 1,
   "metadata": {},
   "outputs": [],
   "source": [
    "import pandas as pd\n",
    "import numpy as np\n",
    "import os\n",
    "\n",
    "import plotly.graph_objs as go"
   ]
  },
  {
   "cell_type": "code",
   "execution_count": 2,
   "metadata": {},
   "outputs": [],
   "source": [
    "train_df = pd.read_csv('../train.csv')"
   ]
  },
  {
   "cell_type": "code",
   "execution_count": 3,
   "metadata": {},
   "outputs": [
    {
     "data": {
      "text/html": [
       "<div>\n",
       "<style scoped>\n",
       "    .dataframe tbody tr th:only-of-type {\n",
       "        vertical-align: middle;\n",
       "    }\n",
       "\n",
       "    .dataframe tbody tr th {\n",
       "        vertical-align: top;\n",
       "    }\n",
       "\n",
       "    .dataframe thead th {\n",
       "        text-align: right;\n",
       "    }\n",
       "</style>\n",
       "<table border=\"1\" class=\"dataframe\">\n",
       "  <thead>\n",
       "    <tr style=\"text-align: right;\">\n",
       "      <th></th>\n",
       "      <th>id</th>\n",
       "      <th>qid1</th>\n",
       "      <th>qid2</th>\n",
       "      <th>question1</th>\n",
       "      <th>question2</th>\n",
       "      <th>is_duplicate</th>\n",
       "    </tr>\n",
       "  </thead>\n",
       "  <tbody>\n",
       "    <tr>\n",
       "      <th>0</th>\n",
       "      <td>0</td>\n",
       "      <td>1</td>\n",
       "      <td>2</td>\n",
       "      <td>What is the step by step guide to invest in sh...</td>\n",
       "      <td>What is the step by step guide to invest in sh...</td>\n",
       "      <td>0</td>\n",
       "    </tr>\n",
       "    <tr>\n",
       "      <th>1</th>\n",
       "      <td>1</td>\n",
       "      <td>3</td>\n",
       "      <td>4</td>\n",
       "      <td>What is the story of Kohinoor (Koh-i-Noor) Dia...</td>\n",
       "      <td>What would happen if the Indian government sto...</td>\n",
       "      <td>0</td>\n",
       "    </tr>\n",
       "    <tr>\n",
       "      <th>2</th>\n",
       "      <td>2</td>\n",
       "      <td>5</td>\n",
       "      <td>6</td>\n",
       "      <td>How can I increase the speed of my internet co...</td>\n",
       "      <td>How can Internet speed be increased by hacking...</td>\n",
       "      <td>0</td>\n",
       "    </tr>\n",
       "  </tbody>\n",
       "</table>\n",
       "</div>"
      ],
      "text/plain": [
       "   id  qid1  qid2                                          question1  \\\n",
       "0   0     1     2  What is the step by step guide to invest in sh...   \n",
       "1   1     3     4  What is the story of Kohinoor (Koh-i-Noor) Dia...   \n",
       "2   2     5     6  How can I increase the speed of my internet co...   \n",
       "\n",
       "                                           question2  is_duplicate  \n",
       "0  What is the step by step guide to invest in sh...             0  \n",
       "1  What would happen if the Indian government sto...             0  \n",
       "2  How can Internet speed be increased by hacking...             0  "
      ]
     },
     "execution_count": 3,
     "metadata": {},
     "output_type": "execute_result"
    }
   ],
   "source": [
    "train_df.head(3)"
   ]
  },
  {
   "cell_type": "markdown",
   "metadata": {},
   "source": [
    "### Looking at the number of duplicates (using plotly 3.0!)"
   ]
  },
  {
   "cell_type": "code",
   "execution_count": 4,
   "metadata": {},
   "outputs": [],
   "source": [
    "dup_df = train_df.\\\n",
    "         groupby('is_duplicate',\n",
    "                 as_index = False)\\\n",
    "         ['id'].\\\n",
    "         count()\n"
   ]
  },
  {
   "cell_type": "code",
   "execution_count": 5,
   "metadata": {},
   "outputs": [],
   "source": [
    "fig = go.FigureWidget(\n",
    "    data = [go.Bar(\n",
    "        x=dup_df['is_duplicate'],\n",
    "        y=dup_df['id']\n",
    "    )],\n",
    "    layout=go.Layout(\n",
    "        title=\"Number of records for each 'is_duplicate' class\",\n",
    "        titlefont=dict(\n",
    "            color='rgb(230,230,230)'\n",
    "        ),\n",
    "        xaxis=dict(\n",
    "            title='is duplicate',\n",
    "            color='rgb(230,230,230)'\n",
    "        ),\n",
    "        yaxis=dict(\n",
    "            title='Count',\n",
    "            color='rgb(230,230,230)'\n",
    "        ),\n",
    "        paper_bgcolor = 'rgb(44,48,60)',\n",
    "        plot_bgcolor = 'rgb(44,48,60)'\n",
    "    )\n",
    ")\n"
   ]
  },
  {
   "cell_type": "code",
   "execution_count": 6,
   "metadata": {},
   "outputs": [
    {
     "data": {
      "application/vnd.jupyter.widget-view+json": {
       "model_id": "6bf94e2446ed4cd18ae502c184fd08ce",
       "version_major": 2,
       "version_minor": 0
      },
      "text/html": [
       "<p>Failed to display Jupyter Widget of type <code>FigureWidget</code>.</p>\n",
       "<p>\n",
       "  If you're reading this message in the Jupyter Notebook or JupyterLab Notebook, it may mean\n",
       "  that the widgets JavaScript is still loading. If this message persists, it\n",
       "  likely means that the widgets JavaScript library is either not installed or\n",
       "  not enabled. See the <a href=\"https://ipywidgets.readthedocs.io/en/stable/user_install.html\">Jupyter\n",
       "  Widgets Documentation</a> for setup instructions.\n",
       "</p>\n",
       "<p>\n",
       "  If you're reading this message in another frontend (for example, a static\n",
       "  rendering on GitHub or <a href=\"https://nbviewer.jupyter.org/\">NBViewer</a>),\n",
       "  it may mean that your frontend doesn't currently support widgets.\n",
       "</p>\n"
      ],
      "text/plain": [
       "FigureWidget({\n",
       "    'data': [{'type': 'bar',\n",
       "              'uid': '3f895810-829a-11e8-acfb-bc8385288ae2',\n",
       "              'x': array([0., 1.]),\n",
       "              'y': array([255027., 149263.])}],\n",
       "    'layout': {'paper_bgcolor': 'rgb(44,48,60)',\n",
       "               'plot_bgcolor': 'rgb(44,48,60)',\n",
       "               'title': \"Number of records for each 'is_duplicate' class\",\n",
       "               'titlefont': {'color': 'rgb(230,230,230)'},\n",
       "               'xaxis': {'color': 'rgb(230,230,230)', 'title': 'is duplicate'},\n",
       "               'yaxis': {'color': 'rgb(230,230,230)', 'title': 'Count'}}\n",
       "})"
      ]
     },
     "metadata": {},
     "output_type": "display_data"
    }
   ],
   "source": [
    "fig"
   ]
  },
  {
   "cell_type": "markdown",
   "metadata": {},
   "source": [
    "### Let's take a look at how many times each question appears"
   ]
  },
  {
   "cell_type": "code",
   "execution_count": 7,
   "metadata": {},
   "outputs": [
    {
     "data": {
      "text/plain": [
       "Index(['id', 'qid1', 'qid2', 'question1', 'question2', 'is_duplicate'], dtype='object')"
      ]
     },
     "execution_count": 7,
     "metadata": {},
     "output_type": "execute_result"
    }
   ],
   "source": [
    "train_df.columns"
   ]
  },
  {
   "cell_type": "code",
   "execution_count": 14,
   "metadata": {},
   "outputs": [],
   "source": [
    "questions = pd.concat([\n",
    "                train_df[['qid1','is_duplicate']],\n",
    "                train_df[['qid2','is_duplicate']].\\\n",
    "                    rename(columns={'qid2' : 'qid1'})\n",
    "                ],\n",
    "                axis=0\n",
    ")"
   ]
  },
  {
   "cell_type": "code",
   "execution_count": 18,
   "metadata": {},
   "outputs": [],
   "source": [
    "questions = pd.DataFrame(questions).\\\n",
    "    rename(columns={'qid1':'qid'})\n",
    "# adding dummy indicator for aggregation\n",
    "questions['ind'] = 1"
   ]
  },
  {
   "cell_type": "code",
   "execution_count": 77,
   "metadata": {},
   "outputs": [
    {
     "data": {
      "text/html": [
       "<div>\n",
       "<style scoped>\n",
       "    .dataframe tbody tr th:only-of-type {\n",
       "        vertical-align: middle;\n",
       "    }\n",
       "\n",
       "    .dataframe tbody tr th {\n",
       "        vertical-align: top;\n",
       "    }\n",
       "\n",
       "    .dataframe thead th {\n",
       "        text-align: right;\n",
       "    }\n",
       "</style>\n",
       "<table border=\"1\" class=\"dataframe\">\n",
       "  <thead>\n",
       "    <tr style=\"text-align: right;\">\n",
       "      <th></th>\n",
       "      <th>qid</th>\n",
       "      <th>is_duplicate</th>\n",
       "      <th>count</th>\n",
       "    </tr>\n",
       "  </thead>\n",
       "  <tbody>\n",
       "    <tr>\n",
       "      <th>0</th>\n",
       "      <td>30782</td>\n",
       "      <td>0</td>\n",
       "      <td>120.0</td>\n",
       "    </tr>\n",
       "    <tr>\n",
       "      <th>1</th>\n",
       "      <td>2559</td>\n",
       "      <td>0</td>\n",
       "      <td>118.0</td>\n",
       "    </tr>\n",
       "    <tr>\n",
       "      <th>2</th>\n",
       "      <td>4044</td>\n",
       "      <td>0</td>\n",
       "      <td>85.0</td>\n",
       "    </tr>\n",
       "    <tr>\n",
       "      <th>3</th>\n",
       "      <td>17978</td>\n",
       "      <td>0</td>\n",
       "      <td>77.0</td>\n",
       "    </tr>\n",
       "    <tr>\n",
       "      <th>4</th>\n",
       "      <td>14376</td>\n",
       "      <td>0</td>\n",
       "      <td>69.0</td>\n",
       "    </tr>\n",
       "  </tbody>\n",
       "</table>\n",
       "</div>"
      ],
      "text/plain": [
       "     qid  is_duplicate  count\n",
       "0  30782             0  120.0\n",
       "1   2559             0  118.0\n",
       "2   4044             0   85.0\n",
       "3  17978             0   77.0\n",
       "4  14376             0   69.0"
      ]
     },
     "execution_count": 77,
     "metadata": {},
     "output_type": "execute_result"
    }
   ],
   "source": [
    "questions_w_duplicates = questions.\\\n",
    "                        groupby(['qid','is_duplicate'],\n",
    "                                 as_index = False)\\\n",
    "                        ['ind'].\\\n",
    "                        count().\\\n",
    "                        sort_values('ind',\n",
    "                                     ascending=False\n",
    "                        ).\\\n",
    "                        rename(columns={'ind':'count'}).\\\n",
    "                        merge(\n",
    "                            pd.DataFrame([{'qid' : x, 'is_duplicate' : 0} \n",
    "                                          for x in questions['qid'].unique().tolist()] +\\\n",
    "                                         [{'qid' : x, 'is_duplicate' : 1} \n",
    "                                          for x in questions['qid'].unique().tolist()]\n",
    "                            ),\n",
    "                            how='right',\n",
    "                            on=['qid','is_duplicate']\n",
    "                        )\n",
    "\n",
    "questions_w_duplicates.fillna(0)\n",
    "\n",
    "questions_w_duplicates.head(5)"
   ]
  },
  {
   "cell_type": "code",
   "execution_count": 79,
   "metadata": {},
   "outputs": [
    {
     "data": {
      "text/html": [
       "<div>\n",
       "<style scoped>\n",
       "    .dataframe tbody tr th:only-of-type {\n",
       "        vertical-align: middle;\n",
       "    }\n",
       "\n",
       "    .dataframe tbody tr th {\n",
       "        vertical-align: top;\n",
       "    }\n",
       "\n",
       "    .dataframe thead th {\n",
       "        text-align: right;\n",
       "    }\n",
       "</style>\n",
       "<table border=\"1\" class=\"dataframe\">\n",
       "  <thead>\n",
       "    <tr style=\"text-align: right;\">\n",
       "      <th></th>\n",
       "      <th>qid</th>\n",
       "      <th>total</th>\n",
       "      <th>is_duplicate</th>\n",
       "      <th>count</th>\n",
       "    </tr>\n",
       "  </thead>\n",
       "  <tbody>\n",
       "    <tr>\n",
       "      <th>5116</th>\n",
       "      <td>2559</td>\n",
       "      <td>157</td>\n",
       "      <td>0</td>\n",
       "      <td>118.0</td>\n",
       "    </tr>\n",
       "    <tr>\n",
       "      <th>5117</th>\n",
       "      <td>2559</td>\n",
       "      <td>157</td>\n",
       "      <td>1</td>\n",
       "      <td>39.0</td>\n",
       "    </tr>\n",
       "    <tr>\n",
       "      <th>61562</th>\n",
       "      <td>30782</td>\n",
       "      <td>120</td>\n",
       "      <td>0</td>\n",
       "      <td>120.0</td>\n",
       "    </tr>\n",
       "  </tbody>\n",
       "</table>\n",
       "</div>"
      ],
      "text/plain": [
       "         qid  total  is_duplicate  count\n",
       "5116    2559    157             0  118.0\n",
       "5117    2559    157             1   39.0\n",
       "61562  30782    120             0  120.0"
      ]
     },
     "execution_count": 79,
     "metadata": {},
     "output_type": "execute_result"
    }
   ],
   "source": [
    "question_counts = questions.\\\n",
    "                    groupby('qid',\n",
    "                             as_index = False)\\\n",
    "                    ['ind'].\\\n",
    "                    count().\\\n",
    "                    rename(columns={'ind':'total'}).\\\n",
    "                    merge(\n",
    "                        questions_w_duplicates,\n",
    "                        on='qid'\n",
    "                    ).\\\n",
    "                    sort_values('total',\n",
    "                                 ascending=False\n",
    "                    )\n",
    "                    \n",
    "question_counts.head(3)"
   ]
  },
  {
   "cell_type": "code",
   "execution_count": 83,
   "metadata": {},
   "outputs": [],
   "source": [
    "# set this parameter to be whatever you want.\n",
    "num_questions = 50\n",
    "\n",
    "q_fig = go.FigureWidget(\n",
    "    data = [\n",
    "    go.Bar(\n",
    "        x=question_counts\\\n",
    "          [question_counts['is_duplicate'] == 0]\\\n",
    "          ['qid'].\\\n",
    "          apply(lambda x: 'qid: %i' % x).\\\n",
    "          head(num_questions),\n",
    "        y=question_counts\\\n",
    "          [question_counts['is_duplicate'] == 0]\\\n",
    "          ['count'].\\\n",
    "          head(num_questions),\n",
    "        name='non duplicate'\n",
    "    ),\n",
    "    go.Bar(\n",
    "        x=question_counts\\\n",
    "          [question_counts['is_duplicate'] == 1]\\\n",
    "          ['qid'].\\\n",
    "          apply(lambda x: 'qid: %i' % x).\\\n",
    "          head(num_questions),\n",
    "        y=question_counts\\\n",
    "          [question_counts['is_duplicate'] == 1]\\\n",
    "          ['count'].\\\n",
    "          head(num_questions),\n",
    "        name='is not duplicate'\n",
    "    )\n",
    "    ],\n",
    "    layout=go.Layout(\n",
    "        title=\"Number of questions appearing in the training set for each qid (top %i questions)\" % num_questions,\n",
    "        titlefont=dict(\n",
    "            color='rgb(230,230,230)'\n",
    "        ),\n",
    "        xaxis=dict(\n",
    "            title='qid',\n",
    "            color='rgb(230,230,230)'\n",
    "        ),\n",
    "        yaxis=dict(\n",
    "            title='Count',\n",
    "            color='rgb(230,230,230)'\n",
    "        ),\n",
    "        barmode='stack',\n",
    "        legend=dict(\n",
    "            font=dict(\n",
    "                color='rgb(230,230,230)'\n",
    "            )\n",
    "        ),\n",
    "        paper_bgcolor = 'rgb(44,48,60)',\n",
    "        plot_bgcolor = 'rgb(44,48,60)'\n",
    "    )\n",
    ")\n"
   ]
  },
  {
   "cell_type": "code",
   "execution_count": 84,
   "metadata": {},
   "outputs": [
    {
     "data": {
      "application/vnd.jupyter.widget-view+json": {
       "model_id": "6dcc1dc8934548d2a38671a4c647ea67",
       "version_major": 2,
       "version_minor": 0
      },
      "text/html": [
       "<p>Failed to display Jupyter Widget of type <code>FigureWidget</code>.</p>\n",
       "<p>\n",
       "  If you're reading this message in the Jupyter Notebook or JupyterLab Notebook, it may mean\n",
       "  that the widgets JavaScript is still loading. If this message persists, it\n",
       "  likely means that the widgets JavaScript library is either not installed or\n",
       "  not enabled. See the <a href=\"https://ipywidgets.readthedocs.io/en/stable/user_install.html\">Jupyter\n",
       "  Widgets Documentation</a> for setup instructions.\n",
       "</p>\n",
       "<p>\n",
       "  If you're reading this message in another frontend (for example, a static\n",
       "  rendering on GitHub or <a href=\"https://nbviewer.jupyter.org/\">NBViewer</a>),\n",
       "  it may mean that your frontend doesn't currently support widgets.\n",
       "</p>\n"
      ],
      "text/plain": [
       "FigureWidget({\n",
       "    'data': [{'name': 'non duplicate',\n",
       "              'type': 'bar',\n",
       "              'uid': 'ac93c800-82a2-11e8-bbe8-bc8385288ae2',\n",
       "              'x': array(['qid: 2559', 'qid: 30782', 'qid: 4044', 'qid: 2561', 'qid: 14376',\n",
       "                          'qid: 17978', 'qid: 2675', 'qid: 28764', 'qid: 1772', 'qid: 24555',\n",
       "                          'qid: 18753', 'qid: 4018', 'qid: 28133', 'qid: 3595', 'qid: 18531',\n",
       "                          'qid: 4951', 'qid: 19621', 'qid: 10024', 'qid: 38', 'qid: 13748',\n",
       "                          'qid: 10330', 'qid: 18296', 'qid: 11264', 'qid: 20190', 'qid: 6551',\n",
       "                          'qid: 6749', 'qid: 8461', 'qid: 33412', 'qid: 691', 'qid: 12639',\n",
       "                          'qid: 2322', 'qid: 3938', 'qid: 1885', 'qid: 10382', 'qid: 4367',\n",
       "                          'qid: 58173', 'qid: 11588', 'qid: 1749', 'qid: 7801', 'qid: 17761',\n",
       "                          'qid: 21693', 'qid: 2439', 'qid: 11397', 'qid: 27618', 'qid: 65693',\n",
       "                          'qid: 25984', 'qid: 2921', 'qid: 14110', 'qid: 6100', 'qid: 10433'],\n",
       "                         dtype=object),\n",
       "              'y': array([118., 120.,  85.,  49.,  69.,  77.,  21.,  44.,  44.,  50.,  36.,   4.,\n",
       "                           nan,  nan,  51.,   1.,  11.,  40.,  nan,  nan,  nan,  nan,   1.,  nan,\n",
       "                           nan,  nan,  nan,  nan,  31.,  nan,  nan,   1.,   2.,  32.,  nan,   1.,\n",
       "                            1.,  nan,   1.,  nan,  nan,  nan,  nan,  nan,  nan,  nan,  nan,  nan,\n",
       "                            1.,   4.])},\n",
       "             {'name': 'is not duplicate',\n",
       "              'type': 'bar',\n",
       "              'uid': 'ac93c801-82a2-11e8-b093-bc8385288ae2',\n",
       "              'x': array(['qid: 2559', 'qid: 30782', 'qid: 4044', 'qid: 2561', 'qid: 14376',\n",
       "                          'qid: 17978', 'qid: 2675', 'qid: 28764', 'qid: 1772', 'qid: 24555',\n",
       "                          'qid: 18753', 'qid: 4018', 'qid: 28133', 'qid: 18531', 'qid: 4951',\n",
       "                          'qid: 3595', 'qid: 19621', 'qid: 38', 'qid: 10330', 'qid: 10024',\n",
       "                          'qid: 13748', 'qid: 18296', 'qid: 11264', 'qid: 6551', 'qid: 20190',\n",
       "                          'qid: 3938', 'qid: 6749', 'qid: 8461', 'qid: 33412', 'qid: 691',\n",
       "                          'qid: 2322', 'qid: 12639', 'qid: 58173', 'qid: 10382', 'qid: 4367',\n",
       "                          'qid: 11588', 'qid: 1885', 'qid: 1749', 'qid: 11397', 'qid: 21693',\n",
       "                          'qid: 17761', 'qid: 7801', 'qid: 65693', 'qid: 25984', 'qid: 27618',\n",
       "                          'qid: 2439', 'qid: 6100', 'qid: 2921', 'qid: 14110', 'qid: 10433'],\n",
       "                         dtype=object),\n",
       "              'y': array([39., nan, 26., 39., 10., nan, 47., 22., 19., 11., 22., 53., 56.,  4.,\n",
       "                          54., 55., 44., 54., 54., 14., 54., 53., 51., 52., 52., 50., 51., 51.,\n",
       "                          51., 20., 51., 51., 49., 18., 50., 49., 48., 49., 49., 49., 49., 48.,\n",
       "                          49., 49., 49., 49., 47., 48., 48., 43.])}],\n",
       "    'layout': {'barmode': 'stack',\n",
       "               'legend': {'font': {'color': 'rgb(230,230,230)'}},\n",
       "               'paper_bgcolor': 'rgb(44,48,60)',\n",
       "               'plot_bgcolor': 'rgb(44,48,60)',\n",
       "               'title': ('Number of questions appearing ' ... 'or each qid (top 50 questions)'),\n",
       "               'titlefont': {'color': 'rgb(230,230,230)'},\n",
       "               'xaxis': {'color': 'rgb(230,230,230)', 'title': 'qid'},\n",
       "               'yaxis': {'color': 'rgb(230,230,230)', 'title': 'Count'}}\n",
       "})"
      ]
     },
     "metadata": {},
     "output_type": "display_data"
    }
   ],
   "source": [
    "q_fig"
   ]
  },
  {
   "cell_type": "code",
   "execution_count": 85,
   "metadata": {},
   "outputs": [],
   "source": [
    "q_fig.layout.bargap = 0.3"
   ]
  },
  {
   "cell_type": "markdown",
   "metadata": {},
   "source": [
    "# So some questions appear multiple times in the dataset, yet the 'is_duplicate' field is not distributed evenly among questions\n",
    "\n",
    "Lets take a look at qid: 2559\n"
   ]
  },
  {
   "cell_type": "code",
   "execution_count": 87,
   "metadata": {},
   "outputs": [
    {
     "data": {
      "text/html": [
       "<div>\n",
       "<style scoped>\n",
       "    .dataframe tbody tr th:only-of-type {\n",
       "        vertical-align: middle;\n",
       "    }\n",
       "\n",
       "    .dataframe tbody tr th {\n",
       "        vertical-align: top;\n",
       "    }\n",
       "\n",
       "    .dataframe thead th {\n",
       "        text-align: right;\n",
       "    }\n",
       "</style>\n",
       "<table border=\"1\" class=\"dataframe\">\n",
       "  <thead>\n",
       "    <tr style=\"text-align: right;\">\n",
       "      <th></th>\n",
       "      <th>id</th>\n",
       "      <th>qid1</th>\n",
       "      <th>qid2</th>\n",
       "      <th>question1</th>\n",
       "      <th>question2</th>\n",
       "      <th>is_duplicate</th>\n",
       "    </tr>\n",
       "  </thead>\n",
       "  <tbody>\n",
       "    <tr>\n",
       "      <th>16138</th>\n",
       "      <td>16138</td>\n",
       "      <td>30781</td>\n",
       "      <td>30782</td>\n",
       "      <td>If I link my Instagram account to my Facebook ...</td>\n",
       "      <td>How can you look at someone's private Instagra...</td>\n",
       "      <td>0</td>\n",
       "    </tr>\n",
       "    <tr>\n",
       "      <th>16183</th>\n",
       "      <td>16183</td>\n",
       "      <td>30866</td>\n",
       "      <td>30782</td>\n",
       "      <td>Can you view pictures on Instagram without an ...</td>\n",
       "      <td>How can you look at someone's private Instagra...</td>\n",
       "      <td>0</td>\n",
       "    </tr>\n",
       "    <tr>\n",
       "      <th>17232</th>\n",
       "      <td>17232</td>\n",
       "      <td>32775</td>\n",
       "      <td>30782</td>\n",
       "      <td>How many Oriya girls wear mini skirts?</td>\n",
       "      <td>How can you look at someone's private Instagra...</td>\n",
       "      <td>0</td>\n",
       "    </tr>\n",
       "    <tr>\n",
       "      <th>20239</th>\n",
       "      <td>20239</td>\n",
       "      <td>38203</td>\n",
       "      <td>30782</td>\n",
       "      <td>Why did Symbian fail?</td>\n",
       "      <td>How can you look at someone's private Instagra...</td>\n",
       "      <td>0</td>\n",
       "    </tr>\n",
       "    <tr>\n",
       "      <th>22376</th>\n",
       "      <td>22376</td>\n",
       "      <td>41999</td>\n",
       "      <td>30782</td>\n",
       "      <td>How do I see followers on someone's private In...</td>\n",
       "      <td>How can you look at someone's private Instagra...</td>\n",
       "      <td>0</td>\n",
       "    </tr>\n",
       "    <tr>\n",
       "      <th>29583</th>\n",
       "      <td>29583</td>\n",
       "      <td>54720</td>\n",
       "      <td>30782</td>\n",
       "      <td>Why did my crush followed my cousin's private ...</td>\n",
       "      <td>How can you look at someone's private Instagra...</td>\n",
       "      <td>0</td>\n",
       "    </tr>\n",
       "    <tr>\n",
       "      <th>39470</th>\n",
       "      <td>39470</td>\n",
       "      <td>71541</td>\n",
       "      <td>30782</td>\n",
       "      <td>Is there a way to view a private Instagram?</td>\n",
       "      <td>How can you look at someone's private Instagra...</td>\n",
       "      <td>0</td>\n",
       "    </tr>\n",
       "    <tr>\n",
       "      <th>43079</th>\n",
       "      <td>43079</td>\n",
       "      <td>77543</td>\n",
       "      <td>30782</td>\n",
       "      <td>How do I recover a deleted Instagram name?</td>\n",
       "      <td>How can you look at someone's private Instagra...</td>\n",
       "      <td>0</td>\n",
       "    </tr>\n",
       "    <tr>\n",
       "      <th>47124</th>\n",
       "      <td>47124</td>\n",
       "      <td>58696</td>\n",
       "      <td>30782</td>\n",
       "      <td>Is it possible to view someone's private Insta...</td>\n",
       "      <td>How can you look at someone's private Instagra...</td>\n",
       "      <td>0</td>\n",
       "    </tr>\n",
       "    <tr>\n",
       "      <th>47824</th>\n",
       "      <td>47824</td>\n",
       "      <td>48228</td>\n",
       "      <td>30782</td>\n",
       "      <td>How do I open a private Instagram account?</td>\n",
       "      <td>How can you look at someone's private Instagra...</td>\n",
       "      <td>0</td>\n",
       "    </tr>\n",
       "  </tbody>\n",
       "</table>\n",
       "</div>"
      ],
      "text/plain": [
       "          id   qid1   qid2                                          question1  \\\n",
       "16138  16138  30781  30782  If I link my Instagram account to my Facebook ...   \n",
       "16183  16183  30866  30782  Can you view pictures on Instagram without an ...   \n",
       "17232  17232  32775  30782             How many Oriya girls wear mini skirts?   \n",
       "20239  20239  38203  30782                              Why did Symbian fail?   \n",
       "22376  22376  41999  30782  How do I see followers on someone's private In...   \n",
       "29583  29583  54720  30782  Why did my crush followed my cousin's private ...   \n",
       "39470  39470  71541  30782        Is there a way to view a private Instagram?   \n",
       "43079  43079  77543  30782         How do I recover a deleted Instagram name?   \n",
       "47124  47124  58696  30782  Is it possible to view someone's private Insta...   \n",
       "47824  47824  48228  30782         How do I open a private Instagram account?   \n",
       "\n",
       "                                               question2  is_duplicate  \n",
       "16138  How can you look at someone's private Instagra...             0  \n",
       "16183  How can you look at someone's private Instagra...             0  \n",
       "17232  How can you look at someone's private Instagra...             0  \n",
       "20239  How can you look at someone's private Instagra...             0  \n",
       "22376  How can you look at someone's private Instagra...             0  \n",
       "29583  How can you look at someone's private Instagra...             0  \n",
       "39470  How can you look at someone's private Instagra...             0  \n",
       "43079  How can you look at someone's private Instagra...             0  \n",
       "47124  How can you look at someone's private Instagra...             0  \n",
       "47824  How can you look at someone's private Instagra...             0  "
      ]
     },
     "execution_count": 87,
     "metadata": {},
     "output_type": "execute_result"
    }
   ],
   "source": [
    "train_df[(train_df['qid1'] == 2559)].head(10)"
   ]
  },
  {
   "cell_type": "markdown",
   "metadata": {},
   "source": [
    "These are seemingly weight-loss questions.\n",
    "\n",
    "How about 30782 (no duplicates) or 38 (all duplicates)"
   ]
  },
  {
   "cell_type": "code",
   "execution_count": 89,
   "metadata": {},
   "outputs": [
    {
     "data": {
      "text/html": [
       "<div>\n",
       "<style scoped>\n",
       "    .dataframe tbody tr th:only-of-type {\n",
       "        vertical-align: middle;\n",
       "    }\n",
       "\n",
       "    .dataframe tbody tr th {\n",
       "        vertical-align: top;\n",
       "    }\n",
       "\n",
       "    .dataframe thead th {\n",
       "        text-align: right;\n",
       "    }\n",
       "</style>\n",
       "<table border=\"1\" class=\"dataframe\">\n",
       "  <thead>\n",
       "    <tr style=\"text-align: right;\">\n",
       "      <th></th>\n",
       "      <th>id</th>\n",
       "      <th>qid1</th>\n",
       "      <th>qid2</th>\n",
       "      <th>question1</th>\n",
       "      <th>question2</th>\n",
       "      <th>is_duplicate</th>\n",
       "    </tr>\n",
       "  </thead>\n",
       "  <tbody>\n",
       "    <tr>\n",
       "      <th>16138</th>\n",
       "      <td>16138</td>\n",
       "      <td>30781</td>\n",
       "      <td>30782</td>\n",
       "      <td>If I link my Instagram account to my Facebook ...</td>\n",
       "      <td>How can you look at someone's private Instagra...</td>\n",
       "      <td>0</td>\n",
       "    </tr>\n",
       "    <tr>\n",
       "      <th>16183</th>\n",
       "      <td>16183</td>\n",
       "      <td>30866</td>\n",
       "      <td>30782</td>\n",
       "      <td>Can you view pictures on Instagram without an ...</td>\n",
       "      <td>How can you look at someone's private Instagra...</td>\n",
       "      <td>0</td>\n",
       "    </tr>\n",
       "    <tr>\n",
       "      <th>17232</th>\n",
       "      <td>17232</td>\n",
       "      <td>32775</td>\n",
       "      <td>30782</td>\n",
       "      <td>How many Oriya girls wear mini skirts?</td>\n",
       "      <td>How can you look at someone's private Instagra...</td>\n",
       "      <td>0</td>\n",
       "    </tr>\n",
       "    <tr>\n",
       "      <th>20239</th>\n",
       "      <td>20239</td>\n",
       "      <td>38203</td>\n",
       "      <td>30782</td>\n",
       "      <td>Why did Symbian fail?</td>\n",
       "      <td>How can you look at someone's private Instagra...</td>\n",
       "      <td>0</td>\n",
       "    </tr>\n",
       "    <tr>\n",
       "      <th>22376</th>\n",
       "      <td>22376</td>\n",
       "      <td>41999</td>\n",
       "      <td>30782</td>\n",
       "      <td>How do I see followers on someone's private In...</td>\n",
       "      <td>How can you look at someone's private Instagra...</td>\n",
       "      <td>0</td>\n",
       "    </tr>\n",
       "  </tbody>\n",
       "</table>\n",
       "</div>"
      ],
      "text/plain": [
       "          id   qid1   qid2                                          question1  \\\n",
       "16138  16138  30781  30782  If I link my Instagram account to my Facebook ...   \n",
       "16183  16183  30866  30782  Can you view pictures on Instagram without an ...   \n",
       "17232  17232  32775  30782             How many Oriya girls wear mini skirts?   \n",
       "20239  20239  38203  30782                              Why did Symbian fail?   \n",
       "22376  22376  41999  30782  How do I see followers on someone's private In...   \n",
       "\n",
       "                                               question2  is_duplicate  \n",
       "16138  How can you look at someone's private Instagra...             0  \n",
       "16183  How can you look at someone's private Instagra...             0  \n",
       "17232  How can you look at someone's private Instagra...             0  \n",
       "20239  How can you look at someone's private Instagra...             0  \n",
       "22376  How can you look at someone's private Instagra...             0  "
      ]
     },
     "execution_count": 89,
     "metadata": {},
     "output_type": "execute_result"
    }
   ],
   "source": [
    "train_df[(train_df['qid2'] == 30782)].head(5)"
   ]
  },
  {
   "cell_type": "code",
   "execution_count": 88,
   "metadata": {},
   "outputs": [
    {
     "data": {
      "text/html": [
       "<div>\n",
       "<style scoped>\n",
       "    .dataframe tbody tr th:only-of-type {\n",
       "        vertical-align: middle;\n",
       "    }\n",
       "\n",
       "    .dataframe tbody tr th {\n",
       "        vertical-align: top;\n",
       "    }\n",
       "\n",
       "    .dataframe thead th {\n",
       "        text-align: right;\n",
       "    }\n",
       "</style>\n",
       "<table border=\"1\" class=\"dataframe\">\n",
       "  <thead>\n",
       "    <tr style=\"text-align: right;\">\n",
       "      <th></th>\n",
       "      <th>id</th>\n",
       "      <th>qid1</th>\n",
       "      <th>qid2</th>\n",
       "      <th>question1</th>\n",
       "      <th>question2</th>\n",
       "      <th>is_duplicate</th>\n",
       "    </tr>\n",
       "  </thead>\n",
       "  <tbody>\n",
       "    <tr>\n",
       "      <th>18</th>\n",
       "      <td>18</td>\n",
       "      <td>37</td>\n",
       "      <td>38</td>\n",
       "      <td>Why are so many Quora users posting questions ...</td>\n",
       "      <td>Why do people ask Quora questions which can be...</td>\n",
       "      <td>1</td>\n",
       "    </tr>\n",
       "    <tr>\n",
       "      <th>19484</th>\n",
       "      <td>19484</td>\n",
       "      <td>4950</td>\n",
       "      <td>38</td>\n",
       "      <td>How come people on Quora ask questions here, w...</td>\n",
       "      <td>Why do people ask Quora questions which can be...</td>\n",
       "      <td>1</td>\n",
       "    </tr>\n",
       "    <tr>\n",
       "      <th>22076</th>\n",
       "      <td>22076</td>\n",
       "      <td>17507</td>\n",
       "      <td>38</td>\n",
       "      <td>Why do so many people post questions on Quora ...</td>\n",
       "      <td>Why do people ask Quora questions which can be...</td>\n",
       "      <td>1</td>\n",
       "    </tr>\n",
       "    <tr>\n",
       "      <th>25791</th>\n",
       "      <td>25791</td>\n",
       "      <td>48053</td>\n",
       "      <td>38</td>\n",
       "      <td>Why do people keep asking questions on Quora e...</td>\n",
       "      <td>Why do people ask Quora questions which can be...</td>\n",
       "      <td>1</td>\n",
       "    </tr>\n",
       "    <tr>\n",
       "      <th>26372</th>\n",
       "      <td>26372</td>\n",
       "      <td>21713</td>\n",
       "      <td>38</td>\n",
       "      <td>Why do so many people ask questions on Quora i...</td>\n",
       "      <td>Why do people ask Quora questions which can be...</td>\n",
       "      <td>1</td>\n",
       "    </tr>\n",
       "  </tbody>\n",
       "</table>\n",
       "</div>"
      ],
      "text/plain": [
       "          id   qid1  qid2                                          question1  \\\n",
       "18        18     37    38  Why are so many Quora users posting questions ...   \n",
       "19484  19484   4950    38  How come people on Quora ask questions here, w...   \n",
       "22076  22076  17507    38  Why do so many people post questions on Quora ...   \n",
       "25791  25791  48053    38  Why do people keep asking questions on Quora e...   \n",
       "26372  26372  21713    38  Why do so many people ask questions on Quora i...   \n",
       "\n",
       "                                               question2  is_duplicate  \n",
       "18     Why do people ask Quora questions which can be...             1  \n",
       "19484  Why do people ask Quora questions which can be...             1  \n",
       "22076  Why do people ask Quora questions which can be...             1  \n",
       "25791  Why do people ask Quora questions which can be...             1  \n",
       "26372  Why do people ask Quora questions which can be...             1  "
      ]
     },
     "execution_count": 88,
     "metadata": {},
     "output_type": "execute_result"
    }
   ],
   "source": [
    "train_df[(train_df['qid2'] == 38)].head(5)"
   ]
  },
  {
   "cell_type": "markdown",
   "metadata": {},
   "source": [
    "So a very specific question about Instagram privacy vs a generic question about Quora questions.\n",
    "\n",
    "Let's build a 'corpus' out of the quora questions"
   ]
  },
  {
   "cell_type": "code",
   "execution_count": 15,
   "metadata": {},
   "outputs": [],
   "source": [
    "corpus = pd.concat([\n",
    "            train_df[['qid1','question1']],\n",
    "            train_df[['qid2','question2']].\\\n",
    "                rename(columns={'qid2':'qid1',\n",
    "                                'question2':'question1'}\n",
    "                )],\n",
    "            axis=0\n",
    "        )\n",
    "\n",
    "corpus = corpus.\\\n",
    "         rename(columns={'qid1':'qid',\n",
    "                         'question1':'question'}\n",
    "         ).\\\n",
    "         drop_duplicates()"
   ]
  },
  {
   "cell_type": "code",
   "execution_count": 16,
   "metadata": {},
   "outputs": [
    {
     "data": {
      "text/html": [
       "<div>\n",
       "<style scoped>\n",
       "    .dataframe tbody tr th:only-of-type {\n",
       "        vertical-align: middle;\n",
       "    }\n",
       "\n",
       "    .dataframe tbody tr th {\n",
       "        vertical-align: top;\n",
       "    }\n",
       "\n",
       "    .dataframe thead th {\n",
       "        text-align: right;\n",
       "    }\n",
       "</style>\n",
       "<table border=\"1\" class=\"dataframe\">\n",
       "  <thead>\n",
       "    <tr style=\"text-align: right;\">\n",
       "      <th></th>\n",
       "      <th>qid</th>\n",
       "      <th>question</th>\n",
       "    </tr>\n",
       "  </thead>\n",
       "  <tbody>\n",
       "    <tr>\n",
       "      <th>0</th>\n",
       "      <td>1</td>\n",
       "      <td>What is the step by step guide to invest in sh...</td>\n",
       "    </tr>\n",
       "    <tr>\n",
       "      <th>1</th>\n",
       "      <td>3</td>\n",
       "      <td>What is the story of Kohinoor (Koh-i-Noor) Dia...</td>\n",
       "    </tr>\n",
       "    <tr>\n",
       "      <th>2</th>\n",
       "      <td>5</td>\n",
       "      <td>How can I increase the speed of my internet co...</td>\n",
       "    </tr>\n",
       "  </tbody>\n",
       "</table>\n",
       "</div>"
      ],
      "text/plain": [
       "   qid                                           question\n",
       "0    1  What is the step by step guide to invest in sh...\n",
       "1    3  What is the story of Kohinoor (Koh-i-Noor) Dia...\n",
       "2    5  How can I increase the speed of my internet co..."
      ]
     },
     "execution_count": 16,
     "metadata": {},
     "output_type": "execute_result"
    }
   ],
   "source": [
    "corpus.head(3)"
   ]
  },
  {
   "cell_type": "markdown",
   "metadata": {},
   "source": [
    "## cleaning with nltk"
   ]
  },
  {
   "cell_type": "code",
   "execution_count": 17,
   "metadata": {},
   "outputs": [],
   "source": [
    "import nltk"
   ]
  },
  {
   "cell_type": "code",
   "execution_count": 45,
   "metadata": {},
   "outputs": [],
   "source": [
    "from nltk.corpus import stopwords\n",
    "from nltk.stem.wordnet import WordNetLemmatizer\n",
    "from nltk import word_tokenize\n",
    "import string"
   ]
  },
  {
   "cell_type": "code",
   "execution_count": 19,
   "metadata": {},
   "outputs": [],
   "source": [
    "stop = set(stopwords.words('english'))\n",
    "exclude = set(string.punctuation) \n",
    "lemma = WordNetLemmatizer()"
   ]
  },
  {
   "cell_type": "markdown",
   "metadata": {},
   "source": [
    "### There may be spelling mistakes in the questions, but will try to find these later"
   ]
  },
  {
   "cell_type": "code",
   "execution_count": 20,
   "metadata": {},
   "outputs": [],
   "source": [
    "def clean(doc):\n",
    "    doc = str(doc)\n",
    "    stop_free = \" \".join([i for i in doc.lower().split() if i not in stop])\n",
    "    punc_free = ''.join(ch for ch in stop_free if ch not in exclude)\n",
    "    normalized = \" \".join(lemma.lemmatize(word) for word in punc_free.split())\n",
    "    return normalized"
   ]
  },
  {
   "cell_type": "code",
   "execution_count": 21,
   "metadata": {},
   "outputs": [],
   "source": [
    "corpus['question'] = corpus['question'].apply(clean)"
   ]
  },
  {
   "cell_type": "markdown",
   "metadata": {},
   "source": [
    "## Looking at some of the words that appear most frequently"
   ]
  },
  {
   "cell_type": "code",
   "execution_count": 47,
   "metadata": {},
   "outputs": [],
   "source": [
    "from sklearn.feature_extraction.text import CountVectorizer"
   ]
  },
  {
   "cell_type": "code",
   "execution_count": 48,
   "metadata": {},
   "outputs": [],
   "source": [
    "vectorizer = CountVectorizer(min_df=1)\n",
    "\n",
    "vectorizer = CountVectorizer(analyzer='word', binary=False, decode_error='strict',\n",
    "        dtype=np.float32, encoding='utf-8', input='content',\n",
    "        lowercase=True, max_df=1.0, max_features=None, min_df=1,\n",
    "        ngram_range=(1, 1), preprocessor=None, stop_words=None,\n",
    "        strip_accents=None, token_pattern='(?u)\\\\b\\\\w\\\\w+\\\\b',\n",
    "        tokenizer=None, vocabulary=None)"
   ]
  },
  {
   "cell_type": "code",
   "execution_count": 93,
   "metadata": {},
   "outputs": [],
   "source": [
    "vector_matrix = vectorizer.fit_transform(corpus['question'].tolist()[:10000])"
   ]
  },
  {
   "cell_type": "code",
   "execution_count": 94,
   "metadata": {},
   "outputs": [],
   "source": [
    "appearences = vector_matrix.sum(axis=0)\n",
    "feat_names = vectorizer.get_feature_names()"
   ]
  },
  {
   "cell_type": "code",
   "execution_count": 107,
   "metadata": {},
   "outputs": [],
   "source": [
    "word_counts = [{'word' : feat_names[i],\n",
    "                'count' : appearences[0,i]} for i in range(np.shape(appearences)[1])]\n",
    "\n",
    "word_counts = pd.DataFrame(word_counts).\\\n",
    "              sort_values('count', ascending=False)"
   ]
  },
  {
   "cell_type": "code",
   "execution_count": 138,
   "metadata": {},
   "outputs": [],
   "source": [
    "# set this parameter to be whatever you want.\n",
    "num_words = 20\n",
    "\n",
    "w_fig = go.FigureWidget(\n",
    "    data = [go.Bar(\n",
    "        y=word_counts.\\\n",
    "          head(num_questions).\\\n",
    "          sort_values('count')\\\n",
    "          ['word'],\n",
    "        x=word_counts.\\\n",
    "          head(num_questions).\\\n",
    "          sort_values('count')\\\n",
    "          ['count'],\n",
    "        orientation = 'h'\n",
    "    )],\n",
    "    layout=go.Layout(\n",
    "        title=\"Number of times each word appears in the corpus for %i words (descending order)\" % num_questions,\n",
    "        titlefont=dict(\n",
    "            color='rgb(230,230,230)'\n",
    "        ),\n",
    "        xaxis=dict(\n",
    "            title='qid',\n",
    "            color='rgb(230,230,230)'\n",
    "        ),\n",
    "        yaxis=dict(\n",
    "            title='Count',\n",
    "            color='rgb(230,230,230)'\n",
    "        ),\n",
    "        paper_bgcolor = 'rgb(44,48,60)',\n",
    "        plot_bgcolor = 'rgb(44,48,60)',\n",
    "        font=dict(size=8),\n",
    "        height=700\n",
    "    )\n",
    ")"
   ]
  },
  {
   "cell_type": "code",
   "execution_count": 139,
   "metadata": {},
   "outputs": [
    {
     "data": {
      "application/vnd.jupyter.widget-view+json": {
       "model_id": "51a638ad56d34c429f616de5043513ad",
       "version_major": 2,
       "version_minor": 0
      },
      "text/html": [
       "<p>Failed to display Jupyter Widget of type <code>FigureWidget</code>.</p>\n",
       "<p>\n",
       "  If you're reading this message in the Jupyter Notebook or JupyterLab Notebook, it may mean\n",
       "  that the widgets JavaScript is still loading. If this message persists, it\n",
       "  likely means that the widgets JavaScript library is either not installed or\n",
       "  not enabled. See the <a href=\"https://ipywidgets.readthedocs.io/en/stable/user_install.html\">Jupyter\n",
       "  Widgets Documentation</a> for setup instructions.\n",
       "</p>\n",
       "<p>\n",
       "  If you're reading this message in another frontend (for example, a static\n",
       "  rendering on GitHub or <a href=\"https://nbviewer.jupyter.org/\">NBViewer</a>),\n",
       "  it may mean that your frontend doesn't currently support widgets.\n",
       "</p>\n"
      ],
      "text/plain": [
       "FigureWidget({\n",
       "    'data': [{'orientation': 'h',\n",
       "              'type': 'bar',\n",
       "              'uid': 'bb2f106c-8194-11e8-9434-bc8385288ae2',\n",
       "              'x': array([100., 100., 102., 103., 103., 109., 111., 115., 118., 119., 123., 123.,\n",
       "                          125., 126., 127., 127., 128., 129., 130., 133., 133., 139., 140., 144.,\n",
       "                          145., 146., 146., 146., 148., 151., 156., 156., 158., 158., 166., 176.,\n",
       "                          181., 191., 193., 220., 251., 265., 265., 266., 288., 290., 316., 332.,\n",
       "                          481., 851.]),\n",
       "              'y': array(['go', 'account', 'it', 'company', 'better', 'note', 'become', 'want',\n",
       "                          'world', 'first', 'start', 'ever', 'girl', 'book', 'movie', 'mean',\n",
       "                          'without', 'find', 'many', 'job', 'trump', 'money', 'day', 'work',\n",
       "                          'someone', 'thing', 'question', 'new', 'much', 'use', 'whats', 'indian',\n",
       "                          'year', 'think', 'know', 'time', 'learn', 'life', 'quora', 'difference',\n",
       "                          'make', 'would', 'way', 'one', 'people', 'good', 'like', 'india', 'get',\n",
       "                          'best'], dtype=object)}],\n",
       "    'layout': {'font': {'size': 8},\n",
       "               'height': 700,\n",
       "               'paper_bgcolor': 'rgb(44,48,60)',\n",
       "               'plot_bgcolor': 'rgb(44,48,60)',\n",
       "               'title': 'Number of times each word appears in the corpus for 50 words (descending order)',\n",
       "               'titlefont': {'color': 'rgb(230,230,230)'},\n",
       "               'xaxis': {'color': 'rgb(230,230,230)', 'title': 'qid'},\n",
       "               'yaxis': {'color': 'rgb(230,230,230)', 'title': 'Count'}}\n",
       "})"
      ]
     },
     "metadata": {},
     "output_type": "display_data"
    }
   ],
   "source": [
    "w_fig"
   ]
  },
  {
   "cell_type": "markdown",
   "metadata": {},
   "source": [
    "## Some observations from the data above:\n",
    "* some words should be treated in the same foot (e.g. india and indian)\n",
    "* best is the most dominant word in the corpus, questions are probably something like 'what is the best...'\n",
    "* questions that are hypothetical may be characterised as having 'would'\n",
    "\n",
    "...\n",
    "\n",
    "## Using gensim to run a LDA model"
   ]
  },
  {
   "cell_type": "code",
   "execution_count": 22,
   "metadata": {},
   "outputs": [
    {
     "name": "stderr",
     "output_type": "stream",
     "text": [
      "C:\\ProgramData\\Anaconda3\\lib\\site-packages\\gensim\\utils.py:1197: UserWarning:\n",
      "\n",
      "detected Windows; aliasing chunkize to chunkize_serial\n",
      "\n"
     ]
    }
   ],
   "source": [
    "from gensim import corpora, models"
   ]
  },
  {
   "cell_type": "markdown",
   "metadata": {},
   "source": [
    "Taking the first 10,000 records just to see what happens."
   ]
  },
  {
   "cell_type": "code",
   "execution_count": 23,
   "metadata": {},
   "outputs": [],
   "source": [
    "dictionary = corpora.Dictionary([x.split() for x in corpus['question'].tolist()[:10000]])"
   ]
  },
  {
   "cell_type": "code",
   "execution_count": 24,
   "metadata": {},
   "outputs": [],
   "source": [
    "doc_term_matrix = [dictionary.doc2bow(doc) for doc \n",
    "                   in [x.split() for x in corpus['question'].tolist()[:10000]]\n",
    "                  ]"
   ]
  },
  {
   "cell_type": "code",
   "execution_count": 41,
   "metadata": {},
   "outputs": [],
   "source": [
    "Lda = models.ldamodel.LdaModel\n",
    "num_topics = 30\n",
    "# Running and Trainign LDA model on the document term matrix.\n",
    "# Use defaul priors, no callbacks yet.\n",
    "ldamodel = Lda(corpus = doc_term_matrix, \n",
    "               num_topics=num_topics, \n",
    "               id2word = dictionary,\n",
    "               distributed=False,\n",
    "               passes=50,\n",
    "               minimum_probability = 0.05\n",
    ")"
   ]
  },
  {
   "cell_type": "markdown",
   "metadata": {},
   "source": [
    "### Printing some topics."
   ]
  },
  {
   "cell_type": "code",
   "execution_count": 42,
   "metadata": {},
   "outputs": [
    {
     "name": "stdout",
     "output_type": "stream",
     "text": [
      "[(0, '0.052*\"thing\" + 0.042*\"know\" + 0.035*\"year\" + 0.033*\"take\" + 0.033*\"new\"'), (1, '0.119*\"make\" + 0.036*\"money\" + 0.020*\"american\" + 0.017*\"happens\" + 0.016*\"option\"'), (2, '0.160*\"best\" + 0.091*\"way\" + 0.033*\"online\" + 0.024*\"company\" + 0.019*\"much\"'), (3, '0.046*\"want\" + 0.040*\"engineering\" + 0.037*\"woman\" + 0.028*\"me\" + 0.025*\"do\"'), (4, '0.053*\"trump\" + 0.035*\"2016\" + 0.030*\"donald\" + 0.021*\"hillary\" + 0.021*\"clinton\"'), (5, '0.026*\"get\" + 0.022*\"you\" + 0.022*\"not\" + 0.019*\"skill\" + 0.016*\"energy\"'), (6, '0.133*\"india\" + 0.030*\"war\" + 0.027*\"travel\" + 0.025*\"increase\" + 0.016*\"world\"'), (7, '0.040*\"without\" + 0.034*\"buy\" + 0.033*\"phone\" + 0.025*\"data\" + 0.018*\"android\"'), (8, '0.118*\"people\" + 0.078*\"life\" + 0.040*\"love\" + 0.031*\"stop\" + 0.017*\"window\"'), (9, '0.052*\"find\" + 0.033*\"system\" + 0.032*\"old\" + 0.028*\"facebook\" + 0.028*\"business\"'), (10, '0.074*\"difference\" + 0.053*\"many\" + 0.038*\"english\" + 0.033*\"school\" + 0.024*\"type\"'), (11, '0.140*\"good\" + 0.036*\"example\" + 0.032*\"why\" + 0.030*\"best\" + 0.026*\"song\"'), (12, '0.084*\"quora\" + 0.062*\"question\" + 0.031*\"month\" + 0.027*\"answer\" + 0.019*\"need\"'), (13, '0.059*\"time\" + 0.031*\"sex\" + 0.031*\"possible\" + 0.024*\"weight\" + 0.023*\"lose\"'), (14, '0.051*\"movie\" + 0.035*\"best\" + 0.034*\"job\" + 0.026*\"read\" + 0.018*\"government\"'), (15, '0.042*\"google\" + 0.025*\"tv\" + 0.024*\"help\" + 0.023*\"anyone\" + 0.023*\"come\"'), (16, '0.036*\"friend\" + 0.036*\"best\" + 0.029*\"place\" + 0.029*\"president\" + 0.016*\"im\"'), (17, '0.038*\"car\" + 0.027*\"made\" + 0.024*\"cause\" + 0.022*\"service\" + 0.021*\"usa\"'), (18, '0.033*\"see\" + 0.030*\"video\" + 0.028*\"instagram\" + 0.020*\"get\" + 0.020*\"youtube\"'), (19, '0.046*\"book\" + 0.038*\"used\" + 0.035*\"best\" + 0.031*\"ever\" + 0.026*\"using\"'), (20, '0.051*\"note\" + 0.033*\"black\" + 0.033*\"1000\" + 0.032*\"500\" + 0.026*\"r\"'), (21, '0.065*\"work\" + 0.062*\"someone\" + 0.022*\"major\" + 0.022*\"important\" + 0.021*\"compare\"'), (22, '0.048*\"number\" + 0.042*\"account\" + 0.036*\"name\" + 0.024*\"password\" + 0.021*\"site\"'), (23, '0.043*\"indian\" + 0.021*\"look\" + 0.016*\"power\" + 0.015*\"green\" + 0.015*\"startup\"'), (24, '0.067*\"learn\" + 0.059*\"whats\" + 0.046*\"start\" + 0.036*\"girl\" + 0.034*\"like\"'), (25, '0.067*\"think\" + 0.048*\"mean\" + 0.032*\"website\" + 0.031*\"world\" + 0.020*\"state\"'), (26, '0.056*\"become\" + 0.043*\"person\" + 0.022*\"relationship\" + 0.018*\"computer\" + 0.018*\"like\"'), (27, '0.036*\"u\" + 0.034*\"human\" + 0.031*\"feel\" + 0.015*\"function\" + 0.015*\"game\"'), (28, '0.039*\"really\" + 0.039*\"college\" + 0.022*\"get\" + 0.019*\"salary\" + 0.019*\"them\"'), (29, '0.029*\"university\" + 0.021*\"product\" + 0.019*\"idea\" + 0.018*\"eat\" + 0.016*\"currency\"')]\n"
     ]
    }
   ],
   "source": [
    "print(ldamodel.print_topics(num_topics=num_topics, num_words=5))"
   ]
  },
  {
   "cell_type": "code",
   "execution_count": null,
   "metadata": {},
   "outputs": [],
   "source": []
  }
 ],
 "metadata": {
  "kernelspec": {
   "display_name": "Python 3",
   "language": "python",
   "name": "python3"
  },
  "language_info": {
   "codemirror_mode": {
    "name": "ipython",
    "version": 3
   },
   "file_extension": ".py",
   "mimetype": "text/x-python",
   "name": "python",
   "nbconvert_exporter": "python",
   "pygments_lexer": "ipython3",
   "version": "3.6.4"
  }
 },
 "nbformat": 4,
 "nbformat_minor": 2
}
