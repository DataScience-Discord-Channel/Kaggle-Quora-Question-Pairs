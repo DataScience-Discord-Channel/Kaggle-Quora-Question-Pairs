{
 "cells": [
  {
   "cell_type": "code",
   "execution_count": 1,
   "metadata": {},
   "outputs": [],
   "source": [
    "import pandas as pd\n",
    "import numpy as np\n",
    "import os\n",
    "\n",
    "import plotly.graph_objs as go"
   ]
  },
  {
   "cell_type": "code",
   "execution_count": 2,
   "metadata": {},
   "outputs": [],
   "source": [
    "train_df = pd.read_csv('../train.csv')"
   ]
  },
  {
   "cell_type": "code",
   "execution_count": 3,
   "metadata": {},
   "outputs": [
    {
     "data": {
      "text/html": [
       "<div>\n",
       "<style scoped>\n",
       "    .dataframe tbody tr th:only-of-type {\n",
       "        vertical-align: middle;\n",
       "    }\n",
       "\n",
       "    .dataframe tbody tr th {\n",
       "        vertical-align: top;\n",
       "    }\n",
       "\n",
       "    .dataframe thead th {\n",
       "        text-align: right;\n",
       "    }\n",
       "</style>\n",
       "<table border=\"1\" class=\"dataframe\">\n",
       "  <thead>\n",
       "    <tr style=\"text-align: right;\">\n",
       "      <th></th>\n",
       "      <th>id</th>\n",
       "      <th>qid1</th>\n",
       "      <th>qid2</th>\n",
       "      <th>question1</th>\n",
       "      <th>question2</th>\n",
       "      <th>is_duplicate</th>\n",
       "    </tr>\n",
       "  </thead>\n",
       "  <tbody>\n",
       "    <tr>\n",
       "      <th>0</th>\n",
       "      <td>0</td>\n",
       "      <td>1</td>\n",
       "      <td>2</td>\n",
       "      <td>What is the step by step guide to invest in sh...</td>\n",
       "      <td>What is the step by step guide to invest in sh...</td>\n",
       "      <td>0</td>\n",
       "    </tr>\n",
       "    <tr>\n",
       "      <th>1</th>\n",
       "      <td>1</td>\n",
       "      <td>3</td>\n",
       "      <td>4</td>\n",
       "      <td>What is the story of Kohinoor (Koh-i-Noor) Dia...</td>\n",
       "      <td>What would happen if the Indian government sto...</td>\n",
       "      <td>0</td>\n",
       "    </tr>\n",
       "    <tr>\n",
       "      <th>2</th>\n",
       "      <td>2</td>\n",
       "      <td>5</td>\n",
       "      <td>6</td>\n",
       "      <td>How can I increase the speed of my internet co...</td>\n",
       "      <td>How can Internet speed be increased by hacking...</td>\n",
       "      <td>0</td>\n",
       "    </tr>\n",
       "  </tbody>\n",
       "</table>\n",
       "</div>"
      ],
      "text/plain": [
       "   id  qid1  qid2                                          question1  \\\n",
       "0   0     1     2  What is the step by step guide to invest in sh...   \n",
       "1   1     3     4  What is the story of Kohinoor (Koh-i-Noor) Dia...   \n",
       "2   2     5     6  How can I increase the speed of my internet co...   \n",
       "\n",
       "                                           question2  is_duplicate  \n",
       "0  What is the step by step guide to invest in sh...             0  \n",
       "1  What would happen if the Indian government sto...             0  \n",
       "2  How can Internet speed be increased by hacking...             0  "
      ]
     },
     "execution_count": 3,
     "metadata": {},
     "output_type": "execute_result"
    }
   ],
   "source": [
    "train_df.head(3)"
   ]
  },
  {
   "cell_type": "markdown",
   "metadata": {},
   "source": [
    "### Looking at the number of duplicates (using plotly 3.0!)"
   ]
  },
  {
   "cell_type": "code",
   "execution_count": 4,
   "metadata": {},
   "outputs": [],
   "source": [
    "dup_df = train_df.\\\n",
    "         groupby('is_duplicate',\n",
    "                 as_index = False)\\\n",
    "         ['id'].\\\n",
    "         count()\n"
   ]
  },
  {
   "cell_type": "code",
   "execution_count": 32,
   "metadata": {},
   "outputs": [],
   "source": [
    "fig = go.FigureWidget(\n",
    "    data = [go.Bar(\n",
    "        x=dup_df['is_duplicate'],\n",
    "        y=dup_df['id']\n",
    "    )],\n",
    "    layout=go.Layout(\n",
    "        title=\"Number of records for each 'is_duplicate' class\",\n",
    "        titlefont=dict(\n",
    "            color='rgb(230,230,230)'\n",
    "        ),\n",
    "        xaxis=dict(\n",
    "            title='is duplicate',\n",
    "            color='rgb(230,230,230)'\n",
    "        ),\n",
    "        yaxis=dict(\n",
    "            title='Count',\n",
    "            color='rgb(230,230,230)'\n",
    "        ),\n",
    "        paper_bgcolor = 'rgb(44,48,60)',\n",
    "        plot_bgcolor = 'rgb(44,48,60)'\n",
    "    )\n",
    ")\n"
   ]
  },
  {
   "cell_type": "code",
   "execution_count": 33,
   "metadata": {},
   "outputs": [
    {
     "data": {
      "application/vnd.jupyter.widget-view+json": {
       "model_id": "ccabb0ea5c95401eb5d28dfefdd4a111",
       "version_major": 2,
       "version_minor": 0
      },
      "text/html": [
       "<p>Failed to display Jupyter Widget of type <code>FigureWidget</code>.</p>\n",
       "<p>\n",
       "  If you're reading this message in the Jupyter Notebook or JupyterLab Notebook, it may mean\n",
       "  that the widgets JavaScript is still loading. If this message persists, it\n",
       "  likely means that the widgets JavaScript library is either not installed or\n",
       "  not enabled. See the <a href=\"https://ipywidgets.readthedocs.io/en/stable/user_install.html\">Jupyter\n",
       "  Widgets Documentation</a> for setup instructions.\n",
       "</p>\n",
       "<p>\n",
       "  If you're reading this message in another frontend (for example, a static\n",
       "  rendering on GitHub or <a href=\"https://nbviewer.jupyter.org/\">NBViewer</a>),\n",
       "  it may mean that your frontend doesn't currently support widgets.\n",
       "</p>\n"
      ],
      "text/plain": [
       "FigureWidget({\n",
       "    'data': [{'type': 'bar',\n",
       "              'uid': 'fddf6186-8106-11e8-8fb9-bc8385288ae2',\n",
       "              'x': array([0., 1.]),\n",
       "              'y': array([255027., 149263.])}],\n",
       "    'layout': {'paper_bgcolor': 'rgb(44,48,60)',\n",
       "               'plot_bgcolor': 'rgb(44,48,60)',\n",
       "               'title': \"Number of records for each 'is_duplicate' class\",\n",
       "               'titlefont': {'color': 'rgb(230,230,230)'},\n",
       "               'xaxis': {'color': 'rgb(230,230,230)', 'title': 'is duplicate'},\n",
       "               'yaxis': {'color': 'rgb(230,230,230)', 'title': 'Count'}}\n",
       "})"
      ]
     },
     "metadata": {},
     "output_type": "display_data"
    }
   ],
   "source": [
    "fig"
   ]
  },
  {
   "cell_type": "markdown",
   "metadata": {},
   "source": [
    "### Let's take a look at how many times each question appears"
   ]
  },
  {
   "cell_type": "code",
   "execution_count": 7,
   "metadata": {},
   "outputs": [
    {
     "data": {
      "text/plain": [
       "Index(['id', 'qid1', 'qid2', 'question1', 'question2', 'is_duplicate'], dtype='object')"
      ]
     },
     "execution_count": 7,
     "metadata": {},
     "output_type": "execute_result"
    }
   ],
   "source": [
    "train_df.columns"
   ]
  },
  {
   "cell_type": "code",
   "execution_count": 8,
   "metadata": {},
   "outputs": [],
   "source": [
    "questions = pd.concat([\n",
    "                train_df['qid1'],\n",
    "                train_df['qid2'].\\\n",
    "                    rename(columns={'qid2' : 'qid1'})\n",
    "                ],\n",
    "                axis=0\n",
    ")"
   ]
  },
  {
   "cell_type": "code",
   "execution_count": 9,
   "metadata": {},
   "outputs": [],
   "source": [
    "questions = pd.DataFrame(questions).\\\n",
    "    rename(columns={0:'qid'})\n",
    "# adding dummy indicator for aggregation\n",
    "questions['ind'] = 1"
   ]
  },
  {
   "cell_type": "code",
   "execution_count": 10,
   "metadata": {},
   "outputs": [],
   "source": [
    "questions = questions.\\\n",
    "            groupby('qid',\n",
    "                     as_index = False)\\\n",
    "            ['ind'].\\\n",
    "            count().\\\n",
    "            sort_values('ind',\n",
    "                         ascending=False\n",
    "            ).\\\n",
    "            rename(columns={'ind':'count'})"
   ]
  },
  {
   "cell_type": "code",
   "execution_count": 11,
   "metadata": {},
   "outputs": [
    {
     "data": {
      "text/html": [
       "<div>\n",
       "<style scoped>\n",
       "    .dataframe tbody tr th:only-of-type {\n",
       "        vertical-align: middle;\n",
       "    }\n",
       "\n",
       "    .dataframe tbody tr th {\n",
       "        vertical-align: top;\n",
       "    }\n",
       "\n",
       "    .dataframe thead th {\n",
       "        text-align: right;\n",
       "    }\n",
       "</style>\n",
       "<table border=\"1\" class=\"dataframe\">\n",
       "  <thead>\n",
       "    <tr style=\"text-align: right;\">\n",
       "      <th></th>\n",
       "      <th>qid</th>\n",
       "      <th>count</th>\n",
       "    </tr>\n",
       "  </thead>\n",
       "  <tbody>\n",
       "    <tr>\n",
       "      <th>2558</th>\n",
       "      <td>2559</td>\n",
       "      <td>157</td>\n",
       "    </tr>\n",
       "    <tr>\n",
       "      <th>30781</th>\n",
       "      <td>30782</td>\n",
       "      <td>120</td>\n",
       "    </tr>\n",
       "    <tr>\n",
       "      <th>4043</th>\n",
       "      <td>4044</td>\n",
       "      <td>111</td>\n",
       "    </tr>\n",
       "  </tbody>\n",
       "</table>\n",
       "</div>"
      ],
      "text/plain": [
       "         qid  count\n",
       "2558    2559    157\n",
       "30781  30782    120\n",
       "4043    4044    111"
      ]
     },
     "execution_count": 11,
     "metadata": {},
     "output_type": "execute_result"
    }
   ],
   "source": [
    "questions.head(3)"
   ]
  },
  {
   "cell_type": "code",
   "execution_count": 34,
   "metadata": {},
   "outputs": [],
   "source": [
    "# set this parameter to be whatever you want.\n",
    "num_questions = 50\n",
    "\n",
    "q_fig = go.FigureWidget(\n",
    "    data = [go.Bar(\n",
    "        x=questions['qid'].\\\n",
    "          apply(lambda x: 'qid: %i' % x).\\\n",
    "          head(num_questions),\n",
    "        y=questions['count'].\\\n",
    "          head(num_questions)\n",
    "    )],\n",
    "    layout=go.Layout(\n",
    "        title=\"Number of questions appearing in the training set for each qid (top %i questions)\" % num_questions,\n",
    "        titlefont=dict(\n",
    "            color='rgb(230,230,230)'\n",
    "        ),\n",
    "        xaxis=dict(\n",
    "            title='qid',\n",
    "            color='rgb(230,230,230)'\n",
    "        ),\n",
    "        yaxis=dict(\n",
    "            title='Count',\n",
    "            color='rgb(230,230,230)'\n",
    "        ),\n",
    "        paper_bgcolor = 'rgb(44,48,60)',\n",
    "        plot_bgcolor = 'rgb(44,48,60)'\n",
    "    )\n",
    ")\n"
   ]
  },
  {
   "cell_type": "code",
   "execution_count": 35,
   "metadata": {},
   "outputs": [
    {
     "data": {
      "application/vnd.jupyter.widget-view+json": {
       "model_id": "89684fd3a9284309823d194db018f0eb",
       "version_major": 2,
       "version_minor": 0
      },
      "text/html": [
       "<p>Failed to display Jupyter Widget of type <code>FigureWidget</code>.</p>\n",
       "<p>\n",
       "  If you're reading this message in the Jupyter Notebook or JupyterLab Notebook, it may mean\n",
       "  that the widgets JavaScript is still loading. If this message persists, it\n",
       "  likely means that the widgets JavaScript library is either not installed or\n",
       "  not enabled. See the <a href=\"https://ipywidgets.readthedocs.io/en/stable/user_install.html\">Jupyter\n",
       "  Widgets Documentation</a> for setup instructions.\n",
       "</p>\n",
       "<p>\n",
       "  If you're reading this message in another frontend (for example, a static\n",
       "  rendering on GitHub or <a href=\"https://nbviewer.jupyter.org/\">NBViewer</a>),\n",
       "  it may mean that your frontend doesn't currently support widgets.\n",
       "</p>\n"
      ],
      "text/plain": [
       "FigureWidget({\n",
       "    'data': [{'type': 'bar',\n",
       "              'uid': '30dcd8f4-8107-11e8-ba25-bc8385288ae2',\n",
       "              'x': array(['qid: 2559', 'qid: 30782', 'qid: 4044', 'qid: 2561', 'qid: 14376',\n",
       "                          'qid: 17978', 'qid: 2675', 'qid: 28764', 'qid: 1772', 'qid: 24555',\n",
       "                          'qid: 18753', 'qid: 4018', 'qid: 28133', 'qid: 3595', 'qid: 18531',\n",
       "                          'qid: 19621', 'qid: 4951', 'qid: 38', 'qid: 13748', 'qid: 10024',\n",
       "                          'qid: 10330', 'qid: 18296', 'qid: 11264', 'qid: 20190', 'qid: 6551',\n",
       "                          'qid: 33412', 'qid: 3938', 'qid: 6749', 'qid: 691', 'qid: 2322',\n",
       "                          'qid: 8461', 'qid: 12639', 'qid: 58173', 'qid: 4367', 'qid: 1885',\n",
       "                          'qid: 11588', 'qid: 10382', 'qid: 2439', 'qid: 1749', 'qid: 11397',\n",
       "                          'qid: 65693', 'qid: 27618', 'qid: 25984', 'qid: 7801', 'qid: 21693',\n",
       "                          'qid: 17761', 'qid: 2921', 'qid: 6100', 'qid: 14110', 'qid: 17854'],\n",
       "                         dtype=object),\n",
       "              'y': array([157., 120., 111.,  88.,  79.,  77.,  68.,  66.,  63.,  61.,  58.,  57.,\n",
       "                           56.,  55.,  55.,  55.,  55.,  54.,  54.,  54.,  54.,  53.,  52.,  52.,\n",
       "                           52.,  51.,  51.,  51.,  51.,  51.,  51.,  51.,  50.,  50.,  50.,  50.,\n",
       "                           50.,  49.,  49.,  49.,  49.,  49.,  49.,  49.,  49.,  49.,  48.,  48.,\n",
       "                           48.,  47.])}],\n",
       "    'layout': {'paper_bgcolor': 'rgb(44,48,60)',\n",
       "               'plot_bgcolor': 'rgb(44,48,60)',\n",
       "               'title': ('Number of questions appearing ' ... 'or each qid (top 50 questions)'),\n",
       "               'titlefont': {'color': 'rgb(230,230,230)'},\n",
       "               'xaxis': {'color': 'rgb(230,230,230)', 'title': 'qid'},\n",
       "               'yaxis': {'color': 'rgb(230,230,230)', 'title': 'Count'}}\n",
       "})"
      ]
     },
     "metadata": {},
     "output_type": "display_data"
    }
   ],
   "source": [
    "q_fig"
   ]
  },
  {
   "cell_type": "code",
   "execution_count": null,
   "metadata": {},
   "outputs": [],
   "source": []
  }
 ],
 "metadata": {
  "kernelspec": {
   "display_name": "Python 3",
   "language": "python",
   "name": "python3"
  },
  "language_info": {
   "codemirror_mode": {
    "name": "ipython",
    "version": 3
   },
   "file_extension": ".py",
   "mimetype": "text/x-python",
   "name": "python",
   "nbconvert_exporter": "python",
   "pygments_lexer": "ipython3",
   "version": "3.6.4"
  }
 },
 "nbformat": 4,
 "nbformat_minor": 2
}
